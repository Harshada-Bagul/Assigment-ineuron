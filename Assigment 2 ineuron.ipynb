{
 "cells": [
  {
   "cell_type": "markdown",
   "id": "3e694fc8",
   "metadata": {},
   "source": [
    "# <center> Assigment-2"
   ]
  },
  {
   "cell_type": "raw",
   "id": "e7a326ad",
   "metadata": {},
   "source": [
    "Que 1)  Create the below pattern using nested for loop in Python.\n",
    "*\n",
    "* *\n",
    "* * *\n",
    "* * * *\n",
    "* * * * *\n",
    "* * * *\n",
    "* * *\n",
    "* *\n",
    "*\n"
   ]
  },
  {
   "cell_type": "code",
   "execution_count": 23,
   "id": "dc1ac880",
   "metadata": {},
   "outputs": [
    {
     "name": "stdout",
     "output_type": "stream",
     "text": [
      "*\n",
      "**\n",
      "***\n",
      "****\n",
      "*****\n",
      "****\n",
      "***\n",
      "**\n",
      "*\n"
     ]
    }
   ],
   "source": [
    "n=5\n",
    "for i in range(0,n):\n",
    "    print(\"*\"*(i+1))\n",
    "for j in range(n-1,0,-1):\n",
    "    print(\"*\"*(j))\n",
    "\n",
    "    "
   ]
  },
  {
   "cell_type": "raw",
   "id": "e2a89c28",
   "metadata": {},
   "source": [
    "que 2). Write a Python program to reverse a word after accepting the input from the user.\n",
    "Sample Output:\n",
    "Input word: ineuron\n",
    "Output: norueni\n"
   ]
  },
  {
   "cell_type": "code",
   "execution_count": 25,
   "id": "b3b7b5c4",
   "metadata": {},
   "outputs": [
    {
     "name": "stdout",
     "output_type": "stream",
     "text": [
      "norueni\n"
     ]
    }
   ],
   "source": [
    "Input=\"ineuron\"\n",
    "print(Input[::-1])"
   ]
  }
 ],
 "metadata": {
  "kernelspec": {
   "display_name": "Python 3",
   "language": "python",
   "name": "python3"
  },
  "language_info": {
   "codemirror_mode": {
    "name": "ipython",
    "version": 3
   },
   "file_extension": ".py",
   "mimetype": "text/x-python",
   "name": "python",
   "nbconvert_exporter": "python",
   "pygments_lexer": "ipython3",
   "version": "3.8.8"
  }
 },
 "nbformat": 4,
 "nbformat_minor": 5
}
