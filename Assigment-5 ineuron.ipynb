{
 "cells": [
  {
   "cell_type": "markdown",
   "id": "be4b8365",
   "metadata": {},
   "source": [
    "# <center> Assigment-5"
   ]
  },
  {
   "cell_type": "code",
   "execution_count": 1,
   "id": "58310df9",
   "metadata": {},
   "outputs": [
    {
     "name": "stdout",
     "output_type": "stream",
     "text": [
      "0\n",
      "There was an issue in b var \n",
      "division by zero\n"
     ]
    }
   ],
   "source": [
    "#Que 1). Write a function to compute 5/0 and use try/except to catch the exceptions.\n",
    "try:\n",
    "    a=5\n",
    "    b=int(input())\n",
    "    c=a/b\n",
    "except Exception as e:\n",
    "    print(\"There was an issue in b var \")\n",
    "    print(e)"
   ]
  },
  {
   "cell_type": "code",
   "execution_count": 4,
   "id": "d57813a0",
   "metadata": {},
   "outputs": [],
   "source": [
    "#Que 2). Implement a Python program to generate all sentences where subject is in\n",
    "#[\"Americans\", \"Indians\"] and verb is in [\"Play\", \"watch\"] and the object is in\n",
    "#[\"Baseball\",\"cricket\"].\n",
    "subjects=[\"Americans \",\"Indians\"]\n",
    "verbs=[\"play\",\"watch\"]\n",
    "objects=[\"Baseball\",\"Cricket\"]\n",
    "sentance=[s + \" \" + v + \" \" + o + \" \"\n",
    "for s in subjects for v in verbs for o in objects ]"
   ]
  },
  {
   "cell_type": "code",
   "execution_count": 5,
   "id": "5e7952b6",
   "metadata": {},
   "outputs": [
    {
     "name": "stdout",
     "output_type": "stream",
     "text": [
      "Americans  play Baseball \n",
      "Americans  play Cricket \n",
      "Americans  watch Baseball \n",
      "Americans  watch Cricket \n",
      "Indians play Baseball \n",
      "Indians play Cricket \n",
      "Indians watch Baseball \n",
      "Indians watch Cricket \n"
     ]
    }
   ],
   "source": [
    "for i in sentance:\n",
    "    print(i)"
   ]
  },
  {
   "cell_type": "code",
   "execution_count": null,
   "id": "7f1b37ca",
   "metadata": {},
   "outputs": [],
   "source": []
  }
 ],
 "metadata": {
  "kernelspec": {
   "display_name": "Python 3",
   "language": "python",
   "name": "python3"
  },
  "language_info": {
   "codemirror_mode": {
    "name": "ipython",
    "version": 3
   },
   "file_extension": ".py",
   "mimetype": "text/x-python",
   "name": "python",
   "nbconvert_exporter": "python",
   "pygments_lexer": "ipython3",
   "version": "3.8.8"
  }
 },
 "nbformat": 4,
 "nbformat_minor": 5
}
