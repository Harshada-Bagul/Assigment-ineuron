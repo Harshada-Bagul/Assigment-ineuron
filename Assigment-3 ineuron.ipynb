{
 "cells": [
  {
   "cell_type": "markdown",
   "id": "6cbfa051",
   "metadata": {},
   "source": [
    "### Q. 1.1 ) Write a Python Program to implement your own myreduce() function which works exactly like Python's built-in function reduce()"
   ]
  },
  {
   "cell_type": "code",
   "execution_count": 4,
   "id": "8a3fa791",
   "metadata": {},
   "outputs": [
    {
     "name": "stdout",
     "output_type": "stream",
     "text": [
      "Multiplication :  3715891200\n",
      "Addition :  110\n"
     ]
    }
   ],
   "source": [
    "#operation of in-built function reduce()\n",
    "from functools import reduce\n",
    "l=[2,4,6,8,10,12,14,16,18,20]\n",
    "print(\"Multiplication : \",reduce(lambda a,b:a*b,l))\n",
    "print(\"Addition : \",reduce(lambda a,b:a+b,l))"
   ]
  },
  {
   "cell_type": "code",
   "execution_count": 7,
   "id": "4b013d08",
   "metadata": {},
   "outputs": [],
   "source": [
    "#User-Dedine function myreduce():\n",
    "def myreduce(insert_function,num_list):\n",
    "    output=num_list[0]\n",
    "    for i in num_list[1:] :\n",
    "        output=insert_function(output,i)\n",
    "    print(\"Input: \",num_list)\n",
    "    print(\"Output: \",insert_function)\n",
    "    return output"
   ]
  },
  {
   "cell_type": "code",
   "execution_count": 8,
   "id": "e1496063",
   "metadata": {},
   "outputs": [
    {
     "name": "stdout",
     "output_type": "stream",
     "text": [
      "Input:  [2, 4, 6, 8, 10, 12, 14, 16, 18, 20]\n",
      "Output:  <function <lambda> at 0x056DD418>\n"
     ]
    },
    {
     "data": {
      "text/plain": [
       "3715891200"
      ]
     },
     "execution_count": 8,
     "metadata": {},
     "output_type": "execute_result"
    }
   ],
   "source": [
    "myreduce(lambda a,b:a*b,l)"
   ]
  },
  {
   "cell_type": "code",
   "execution_count": 9,
   "id": "f3929c27",
   "metadata": {},
   "outputs": [
    {
     "name": "stdout",
     "output_type": "stream",
     "text": [
      "Input:  [2, 4, 6, 8, 10, 12, 14, 16, 18, 20]\n",
      "Output:  <function <lambda> at 0x056DD268>\n"
     ]
    },
    {
     "data": {
      "text/plain": [
       "110"
      ]
     },
     "execution_count": 9,
     "metadata": {},
     "output_type": "execute_result"
    }
   ],
   "source": [
    "myreduce(lambda a,b:a+b,l)"
   ]
  },
  {
   "cell_type": "markdown",
   "id": "b706e59e",
   "metadata": {},
   "source": [
    "### 1.2) Write a Python program to implement your own myfilter() function which works exactly like Python's built-in function filter()"
   ]
  },
  {
   "cell_type": "code",
   "execution_count": 15,
   "id": "9bcfa988",
   "metadata": {},
   "outputs": [
    {
     "name": "stdout",
     "output_type": "stream",
     "text": [
      "Even: [0, 2, 4, 6, 8, 10, 12, 14, 16, 18, 20, 22, 24, 26, 28, 30, 32, 34, 36, 38, 40, 42, 44, 46, 48, 50, 52, 54, 56, 58, 60, 62, 64, 66, 68, 70, 72, 74, 76, 78, 80, 82, 84, 86, 88, 90, 92, 94, 96, 98]  \n",
      " \n",
      "Number greater than 40 [81, 82, 83, 84, 85, 86, 87, 88, 89, 90, 91, 92, 93, 94, 95, 96, 97, 98, 99]\n"
     ]
    }
   ],
   "source": [
    "# By using in-built filter function:\n",
    "\n",
    "l=range(0,100)\n",
    "print(\"Even:\",list(filter(lambda a: a%2==0,l)),\" \\n \")\n",
    "print(\"Number greater than 40\",list(filter(lambda a: a>80,l)))"
   ]
  },
  {
   "cell_type": "code",
   "execution_count": 16,
   "id": "87fb7894",
   "metadata": {},
   "outputs": [],
   "source": [
    "def myfilter(any_funct,lst):\n",
    "    \"\"\"This Function will filter lst according to your function i.e any_funct\"\"\"\n",
    "    result=[]\n",
    "    for i in lst:\n",
    "        if(any_funct(i)):\n",
    "            result.append(i)\n",
    "    \n",
    "    return result"
   ]
  },
  {
   "cell_type": "code",
   "execution_count": 17,
   "id": "6f67fc1b",
   "metadata": {},
   "outputs": [
    {
     "name": "stdout",
     "output_type": "stream",
     "text": [
      "Even: [0, 2, 4, 6, 8, 10, 12, 14, 16, 18, 20, 22, 24, 26, 28, 30, 32, 34, 36, 38, 40, 42, 44, 46, 48, 50, 52, 54, 56, 58, 60, 62, 64, 66, 68, 70, 72, 74, 76, 78, 80, 82, 84, 86, 88, 90, 92, 94, 96, 98]\n"
     ]
    }
   ],
   "source": [
    "print(\"Even:\",myfilter(lambda a: a%2==0,l))"
   ]
  },
  {
   "cell_type": "code",
   "execution_count": 18,
   "id": "852468bd",
   "metadata": {},
   "outputs": [
    {
     "data": {
      "text/plain": [
       "[81, 82, 83, 84, 85, 86, 87, 88, 89, 90, 91, 92, 93, 94, 95, 96, 97, 98, 99]"
      ]
     },
     "execution_count": 18,
     "metadata": {},
     "output_type": "execute_result"
    }
   ],
   "source": [
    "myfilter(lambda a:a>80,l)"
   ]
  },
  {
   "cell_type": "markdown",
   "id": "116d75ae",
   "metadata": {},
   "source": [
    "### Q. 2. Implement List comprehensions to produce the following lists.Write List comprehensions to produce the following Lists"
   ]
  },
  {
   "cell_type": "raw",
   "id": "48c3e0ca",
   "metadata": {},
   "source": [
    "* ['A', 'C', 'A', 'D', 'G', 'I', ’L’, ‘ D’]\n",
    "* ['x', 'xx', 'xxx', 'xxxx', 'y', 'yy', 'yyy', 'yyyy', 'z', 'zz', 'zzz', 'zzzz']\n",
    "* ['x', 'y', 'z', 'xx', 'yy', 'zz', 'xxx', 'yyy', 'zzz', 'xxxx', 'yyyy', 'zzzz']\n",
    "* [[2], [3], [4], [3], [4], [5], [4], [5], [6]] \n",
    "* [[2, 3, 4, 5], [3, 4, 5, 6],[4, 5, 6, 7], [5, 6, 7, 8]]\n",
    "* [(1, 1), (2, 1), (3, 1), (1, 2), (2, 2), (3, 2), (1, 3), (2, 3), (3, 3)]"
   ]
  },
  {
   "cell_type": "code",
   "execution_count": 19,
   "id": "67c8ad88",
   "metadata": {},
   "outputs": [
    {
     "data": {
      "text/plain": [
       "['A', 'C', 'A', 'D', 'G', 'I', 'L', 'D']"
      ]
     },
     "execution_count": 19,
     "metadata": {},
     "output_type": "execute_result"
    }
   ],
   "source": [
    "line1=\"acadgild\"\n",
    "[ i.upper() for i in list(line1) ]"
   ]
  },
  {
   "cell_type": "code",
   "execution_count": 21,
   "id": "46ce98a6",
   "metadata": {},
   "outputs": [
    {
     "data": {
      "text/plain": [
       "['x', 'xx', 'xxx', 'xxxx', 'y', 'yy', 'yyy', 'yyyy', 'z', 'zz', 'zzz', 'zzzz']"
      ]
     },
     "execution_count": 21,
     "metadata": {},
     "output_type": "execute_result"
    }
   ],
   "source": [
    "line2='xyz'\n",
    "[letter*rep  for letter in list(line2) for rep in range(1,5)     ]"
   ]
  },
  {
   "cell_type": "code",
   "execution_count": 22,
   "id": "bdcd4ac4",
   "metadata": {},
   "outputs": [
    {
     "data": {
      "text/plain": [
       "['x', 'y', 'z', 'xx', 'yy', 'zz', 'xxx', 'yyy', 'zzz', 'xxxx', 'yyyy', 'zzzz']"
      ]
     },
     "execution_count": 22,
     "metadata": {},
     "output_type": "execute_result"
    }
   ],
   "source": [
    "line3=\"xyz\"\n",
    "[letter*rep for rep in range(1,5)   for letter in list(line2)    ]"
   ]
  },
  {
   "cell_type": "code",
   "execution_count": 23,
   "id": "f8b275b8",
   "metadata": {},
   "outputs": [
    {
     "data": {
      "text/plain": [
       "[[2], [3], [4], [3], [4], [5], [4], [5], [6]]"
      ]
     },
     "execution_count": 23,
     "metadata": {},
     "output_type": "execute_result"
    }
   ],
   "source": [
    "line4=[2,3,4]\n",
    "[[i+rep] for i in line4 for rep in range(0,3) ]"
   ]
  },
  {
   "cell_type": "code",
   "execution_count": 24,
   "id": "5b9278e7",
   "metadata": {},
   "outputs": [
    {
     "data": {
      "text/plain": [
       "[[2, 3, 4, 5], [3, 4, 5, 6], [4, 5, 6, 7], [5, 6, 7, 8]]"
      ]
     },
     "execution_count": 24,
     "metadata": {},
     "output_type": "execute_result"
    }
   ],
   "source": [
    "line5=[2,3,4,5]\n",
    "[  [i+rep for rep in range(0,4)]\n",
    "           for i in line5     ]"
   ]
  },
  {
   "cell_type": "code",
   "execution_count": 26,
   "id": "124e2ff7",
   "metadata": {},
   "outputs": [
    {
     "data": {
      "text/plain": [
       "[(1, 1), (2, 1), (3, 1), (1, 2), (2, 2), (3, 2), (1, 3), (2, 3), (3, 3)]"
      ]
     },
     "execution_count": 26,
     "metadata": {},
     "output_type": "execute_result"
    }
   ],
   "source": [
    "line6=[1,2,3]\n",
    "[(b,a) for a in line6 for b in line6]"
   ]
  },
  {
   "cell_type": "code",
   "execution_count": null,
   "id": "56020ae1",
   "metadata": {},
   "outputs": [],
   "source": []
  }
 ],
 "metadata": {
  "kernelspec": {
   "display_name": "Python 3",
   "language": "python",
   "name": "python3"
  },
  "language_info": {
   "codemirror_mode": {
    "name": "ipython",
    "version": 3
   },
   "file_extension": ".py",
   "mimetype": "text/x-python",
   "name": "python",
   "nbconvert_exporter": "python",
   "pygments_lexer": "ipython3",
   "version": "3.8.8"
  }
 },
 "nbformat": 4,
 "nbformat_minor": 5
}
